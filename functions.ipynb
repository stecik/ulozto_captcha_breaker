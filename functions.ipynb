{
 "cells": [
  {
   "cell_type": "code",
   "execution_count": 54,
   "id": "8ee8e23f",
   "metadata": {},
   "outputs": [],
   "source": [
    "from uuid import uuid4\n",
    "from pathlib import Path\n",
    "import os\n",
    "from PIL import Image, ImageOps\n",
    "import requests\n",
    "import shutil"
   ]
  },
  {
   "cell_type": "code",
   "execution_count": 9,
   "id": "db3be2f9",
   "metadata": {},
   "outputs": [
    {
     "name": "stderr",
     "output_type": "stream",
     "text": [
      "\n",
      "KeyboardInterrupt\n",
      "\n"
     ]
    }
   ],
   "source": [
    "# add uuid\n",
    "\n",
    "data_dir = Path(\"dataset/\")\n",
    "images = list(map(str, list(data_dir.glob(\"*.png\"))))\n",
    "for image in images:\n",
    "    directory, name = image.split(os.sep)\n",
    "    name = name.split(\".\")[0]\n",
    "    os.rename(image, f\"{directory}{os.sep}{name}_{str(uuid4())}.png\")"
   ]
  },
  {
   "cell_type": "code",
   "execution_count": 62,
   "id": "29874832",
   "metadata": {},
   "outputs": [],
   "source": [
    "# convert to bw\n",
    "\n",
    "oc_dir = Path(\"./dataset3_colour/\")\n",
    "bw_dir = Path(\"./dataset3/\")\n",
    "images = list(map(str, list(oc_dir.glob(\"*.png\"))))\n",
    "for image in images:\n",
    "    name = image.split(os.sep)[1]\n",
    "    im = Image.open(image)\n",
    "    im = ImageOps.grayscale(im)\n",
    "    w, h = im.size\n",
    "    for x in range(w):\n",
    "        for y in range(h):\n",
    "            pixel = im.getpixel((x, y))\n",
    "            if pixel > 200:\n",
    "                im.putpixel((x, y), (255))\n",
    "            else:\n",
    "                im.putpixel((x, y), (0))\n",
    "    im.save(f\"{bw_dir}{os.sep}{name}\")"
   ]
  },
  {
   "cell_type": "code",
   "execution_count": 46,
   "id": "930ce67d",
   "metadata": {},
   "outputs": [],
   "source": [
    "def download_captcha(image_url, filename):\n",
    "    r = requests.get(image_url, stream = True)\n",
    "    if r.status_code == 200:\n",
    "        r.raw.decode_content = True\n",
    "        with open(filename,'wb') as f:\n",
    "            shutil.copyfileobj(r.raw, f)"
   ]
  },
  {
   "cell_type": "code",
   "execution_count": 52,
   "id": "7c2e1aff",
   "metadata": {},
   "outputs": [],
   "source": [
    "image_url = \"https://xapca.uloz.to/542864722d205996a1240b60760e3c7cbc82f75d/image.jpg\"\n",
    "directory = \"dataset3_colour/\"\n",
    "captcha_text = \"rvpn\"\n",
    "for i in range(100):\n",
    "    filename = f\"{directory}{captcha_text}_{str(uuid4())}.png\"\n",
    "    download_captcha(image_url, filename)"
   ]
  },
  {
   "cell_type": "code",
   "execution_count": 53,
   "id": "230cc25c",
   "metadata": {},
   "outputs": [
    {
     "name": "stdout",
     "output_type": "stream",
     "text": [
      "['a', 'b', 'c', 'd', 'e', 'f', 'g', 'h', 'i', 'j', 'k', 'l', 'm', 'n', 'o', 'p', 'q', 'r', 's', 't', 'u', 'v', 'x', 'z']\n",
      "24\n"
     ]
    }
   ],
   "source": [
    "data_dir = Path(directory)\n",
    "images = list(map(str, list(data_dir.glob(\"*.png\"))))\n",
    "labels = [str(img).split(os.path.sep)[1].split(\".\")[0][:4] for img in images]\n",
    "labels = list(map(str.lower, labels))\n",
    "characters = sorted(set([char for label in labels for char in label]))\n",
    "print(characters)\n",
    "print(len(characters))"
   ]
  },
  {
   "cell_type": "code",
   "execution_count": 61,
   "id": "8ff5ce72",
   "metadata": {},
   "outputs": [
    {
     "ename": "PermissionError",
     "evalue": "[WinError 5] Přístup byl odepřen: 'dataset2/'",
     "output_type": "error",
     "traceback": [
      "\u001b[1;31m---------------------------------------------------------------------------\u001b[0m",
      "\u001b[1;31mPermissionError\u001b[0m                           Traceback (most recent call last)",
      "Cell \u001b[1;32mIn [61], line 6\u001b[0m\n\u001b[0;32m      3\u001b[0m     black_list \u001b[38;5;241m=\u001b[39m [line\u001b[38;5;241m.\u001b[39mstrip() \u001b[38;5;28;01mfor\u001b[39;00m line \u001b[38;5;129;01min\u001b[39;00m f\u001b[38;5;241m.\u001b[39mreadlines()]\n\u001b[0;32m      5\u001b[0m \u001b[38;5;28;01mfor\u001b[39;00m file \u001b[38;5;129;01min\u001b[39;00m black_list:\n\u001b[1;32m----> 6\u001b[0m     \u001b[43mos\u001b[49m\u001b[38;5;241;43m.\u001b[39;49m\u001b[43mremove\u001b[49m\u001b[43m(\u001b[49m\u001b[38;5;124;43mf\u001b[39;49m\u001b[38;5;124;43m\"\u001b[39;49m\u001b[38;5;124;43mdataset2/\u001b[39;49m\u001b[38;5;132;43;01m{\u001b[39;49;00m\u001b[43mfile\u001b[49m\u001b[38;5;132;43;01m}\u001b[39;49;00m\u001b[38;5;124;43m\"\u001b[39;49m\u001b[43m)\u001b[49m\n",
      "\u001b[1;31mPermissionError\u001b[0m: [WinError 5] Přístup byl odepřen: 'dataset2/'"
     ]
    }
   ],
   "source": [
    "# remove files\n",
    "with open(\"black_list.txt\", \"r\") as f:\n",
    "    black_list = [line.strip() for line in f.readlines()]\n",
    "\n",
    "for file in black_list:\n",
    "    os.remove(f\"dataset2/{file}\")"
   ]
  }
 ],
 "metadata": {
  "kernelspec": {
   "display_name": "Python 3 (ipykernel)",
   "language": "python",
   "name": "python3"
  },
  "language_info": {
   "codemirror_mode": {
    "name": "ipython",
    "version": 3
   },
   "file_extension": ".py",
   "mimetype": "text/x-python",
   "name": "python",
   "nbconvert_exporter": "python",
   "pygments_lexer": "ipython3",
   "version": "3.9.13"
  }
 },
 "nbformat": 4,
 "nbformat_minor": 5
}
